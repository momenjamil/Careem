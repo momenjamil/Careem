{
 "cells": [
  {
   "cell_type": "code",
   "execution_count": 32,
   "metadata": {},
   "outputs": [],
   "source": [
    "\n",
    "import pandas as pd\n",
    "import xlrd\n",
    "import xlsxwriter\n",
    "\n",
    "df = pd.read_excel ('D:\\Momen\\Chat_AHT_Conc_Workfile.xlsx', sheet_name='Sheet3')\n",
    "\n",
    "df['dff'] = df['Terminated'] - df['Created']\n",
    "df['DEV_ST_TIME']  = df['Created']\n",
    "df['DEV_END_TIME']  = df['Terminated']\n",
    "df['DEV_DIFF']= \"\"\n",
    "\n",
    "\n",
    "\n",
    "for i in range(1, 42568):\n",
    "    if df.loc[i, \"agentname\"]  ==  df.loc[i-1, \"agentname\"] :  \n",
    "        if df.loc[i, \"DEV_ST_TIME\"] <= df.loc[i-1, \"DEV_END_TIME\"] :\n",
    "            df.loc[i, \"DEV_ST_TIME\"] = df.loc[i - 1, \"DEV_END_TIME\"]\n",
    "            if df.loc[i,\"DEV_END_TIME\"] < df.loc[i,\"DEV_ST_TIME\"]:\n",
    "                df.loc[i,\"DEV_END_TIME\"] = df.loc[i,\"DEV_ST_TIME\"]\n",
    "\n",
    "\n",
    "\n",
    "for i in range(0, 42568):\n",
    "    if  df.loc[i,\"DEV_END_TIME\"] > df.loc[i,\"DEV_ST_TIME\"]:\n",
    "        df.loc[i,\"DEV_DIFF\"] = df.loc[i,\"DEV_END_TIME\"] - df.loc[i,\"DEV_ST_TIME\"]\n",
    "    else:\n",
    "        df.loc[i,\"DEV_DIFF\"]= \"00:00:00\"\n",
    "        \n",
    "        \n",
    "df['DEV_DIFF']=pd.to_timedelta(df.DEV_DIFF)      \n",
    "\n",
    "\n",
    "df['DEV_DIFF']=pd.to_timedelta(df.DEV_DIFF) \n",
    "Agent_Group = df.groupby('agentname')\n",
    "Agent_Series = Agent_Group['dff'].sum() / Agent_Group['DEV_DIFF'].sum()\n",
    "\n",
    "Queue_Group = df.groupby('queue')\n",
    "Queue_Series = Queue_Group['dff'].sum() / Queue_Group['DEV_DIFF'].sum() \n",
    "\n",
    "totalCon = df['dff'].sum() / df['DEV_DIFF'].sum() \n",
    "total = pd.Series(totalCon , index = ['grand total'])\n",
    "\n",
    "Agent_Series = Agent_Series.append(total)\n",
    "Queue_Series = Queue_Series.append(total)\n",
    "\n",
    "writer = pd.ExcelWriter('D:\\Momen\\Final_Cancurrency.xlsx', engine='xlsxwriter')\n",
    "Agent_Series.to_excel(writer, sheet_name='Agent_Concurrency', index=True)\n",
    "Queue_Series.to_excel(writer, sheet_name='Queue_Concurrency', index=True)\n",
    "writer.save()\n",
    "#df['Con']"
   ]
  }
 ],
 "metadata": {
  "kernelspec": {
   "display_name": "Python 3",
   "language": "python",
   "name": "python3"
  },
  "language_info": {
   "codemirror_mode": {
    "name": "ipython",
    "version": 3
   },
   "file_extension": ".py",
   "mimetype": "text/x-python",
   "name": "python",
   "nbconvert_exporter": "python",
   "pygments_lexer": "ipython3",
   "version": "3.7.3"
  }
 },
 "nbformat": 4,
 "nbformat_minor": 2
}
